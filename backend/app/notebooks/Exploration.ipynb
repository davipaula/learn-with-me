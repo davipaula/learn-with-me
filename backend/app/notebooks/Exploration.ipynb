{
 "cells": [
  {
   "cell_type": "code",
   "execution_count": 1,
   "metadata": {},
   "outputs": [
    {
     "name": "stdout",
     "output_type": "stream",
     "text": [
      "Test\n"
     ]
    }
   ],
   "source": [
    "# Get the data\n",
    "#   - Video captions\n",
    "# Train a model (fit)\n",
    "#   - TF-IDF\n",
    "# Test the model\n",
    "#   - Getting most important words for a topic"
   ]
  },
  {
   "cell_type": "code",
   "execution_count": null,
   "metadata": {},
   "outputs": [],
   "source": [
    "import sklearn\n",
    "\n",
    "# SVD\n",
    "# svd.fit(captions_text)\n",
    "\n",
    "# CNN\n",
    "# cnn.forward(captions_text)\n",
    "\n",
    "# RNN\n",
    "# rnn.forward(captions_text)"
   ]
  }
 ],
 "metadata": {
  "kernelspec": {
   "display_name": "Python 3",
   "language": "python",
   "name": "python3"
  },
  "language_info": {
   "codemirror_mode": {
    "name": "ipython",
    "version": 3
   },
   "file_extension": ".py",
   "mimetype": "text/x-python",
   "name": "python",
   "nbconvert_exporter": "python",
   "pygments_lexer": "ipython3",
   "version": "3.8.6"
  }
 },
 "nbformat": 4,
 "nbformat_minor": 4
}